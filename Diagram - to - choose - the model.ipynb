{
 "cells": [
  {
   "cell_type": "markdown",
   "id": "f4872b85",
   "metadata": {},
   "source": [
    "### there is a diagram to selecte the model for your problem\n",
    "\n",
    "need to remember : if we are traing a data on two models , then it could happen , that both model scores , and acurate prediction may varies. one can work have 90% acurate result and another could be 30% , it sometime depends upon our choice of model."
   ]
  },
  {
   "cell_type": "markdown",
   "id": "e37dacfd",
   "metadata": {},
   "source": [
    "https://scikit-learn.org/stable/tutorial/machine_learning_map/index.html"
   ]
  },
  {
   "cell_type": "markdown",
   "id": "fd96241c",
   "metadata": {},
   "source": [
    "![](Quotefancy-237568-3840x2160.jpg)"
   ]
  },
  {
   "cell_type": "markdown",
   "id": "b25ea776",
   "metadata": {},
   "source": [
    "![](Quotefancy-237568-3840x2160.jpg)"
   ]
  },
  {
   "cell_type": "markdown",
   "id": "a37734b0",
   "metadata": {},
   "source": [
    "![](model_choose.png)"
   ]
  },
  {
   "cell_type": "markdown",
   "id": "72515695",
   "metadata": {},
   "source": [
    "where , green blocks = show the models\n",
    "and blue are the way to choose the right models"
   ]
  }
 ],
 "metadata": {
  "kernelspec": {
   "display_name": "Python 3 (ipykernel)",
   "language": "python",
   "name": "python3"
  },
  "language_info": {
   "codemirror_mode": {
    "name": "ipython",
    "version": 3
   },
   "file_extension": ".py",
   "mimetype": "text/x-python",
   "name": "python",
   "nbconvert_exporter": "python",
   "pygments_lexer": "ipython3",
   "version": "3.10.13"
  }
 },
 "nbformat": 4,
 "nbformat_minor": 5
}
