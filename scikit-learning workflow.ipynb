{
 "cells": [
  {
   "cell_type": "markdown",
   "id": "8e80741d",
   "metadata": {},
   "source": [
    "## scikit learn workflow\n",
    "\n"
   ]
  },
  {
   "cell_type": "code",
   "execution_count": 1,
   "id": "86ff31fe",
   "metadata": {},
   "outputs": [],
   "source": [
    "# 1-get data ready\n",
    "# 2-pick a modal to suit your problem( with the help of a diagram)\n",
    "# 3-fit the modal to the data and make a prediction\n",
    "# 4-evaluate the modal\n",
    "# 5-improve through experimentation\n",
    "# 6-save and reload your trained modal"
   ]
  },
  {
   "cell_type": "code",
   "execution_count": null,
   "id": "80f0ca05",
   "metadata": {},
   "outputs": [],
   "source": []
  }
 ],
 "metadata": {
  "kernelspec": {
   "display_name": "Python 3 (ipykernel)",
   "language": "python",
   "name": "python3"
  },
  "language_info": {
   "codemirror_mode": {
    "name": "ipython",
    "version": 3
   },
   "file_extension": ".py",
   "mimetype": "text/x-python",
   "name": "python",
   "nbconvert_exporter": "python",
   "pygments_lexer": "ipython3",
   "version": "3.10.13"
  }
 },
 "nbformat": 4,
 "nbformat_minor": 5
}
